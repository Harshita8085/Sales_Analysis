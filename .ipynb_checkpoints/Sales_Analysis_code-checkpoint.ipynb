{
 "cells": [
  {
   "cell_type": "code",
   "execution_count": 1,
   "id": "bc533611",
   "metadata": {},
   "outputs": [],
   "source": [
    "import pandas as pd\n",
    "import numpy as np\n",
    "import matplotlib.pyplot as plt"
   ]
  },
  {
   "cell_type": "code",
   "execution_count": 2,
   "id": "08d89cac",
   "metadata": {},
   "outputs": [],
   "source": [
    " df=pd.read_csv(\"sales-data-sample.csv\") "
   ]
  },
  {
   "cell_type": "code",
   "execution_count": 3,
   "id": "83305cc8",
   "metadata": {},
   "outputs": [
    {
     "data": {
      "text/html": [
       "<div>\n",
       "<style scoped>\n",
       "    .dataframe tbody tr th:only-of-type {\n",
       "        vertical-align: middle;\n",
       "    }\n",
       "\n",
       "    .dataframe tbody tr th {\n",
       "        vertical-align: top;\n",
       "    }\n",
       "\n",
       "    .dataframe thead th {\n",
       "        text-align: right;\n",
       "    }\n",
       "</style>\n",
       "<table border=\"1\" class=\"dataframe\">\n",
       "  <thead>\n",
       "    <tr style=\"text-align: right;\">\n",
       "      <th></th>\n",
       "      <th>OrderDate</th>\n",
       "      <th>Category</th>\n",
       "      <th>City</th>\n",
       "      <th>Country</th>\n",
       "      <th>CustomerName</th>\n",
       "      <th>Discount</th>\n",
       "      <th>OrderID</th>\n",
       "      <th>PostalCode</th>\n",
       "      <th>ProductName</th>\n",
       "      <th>Profit</th>\n",
       "      <th>...</th>\n",
       "      <th>DaystoShipActual</th>\n",
       "      <th>SalesForecast</th>\n",
       "      <th>ShipStatus</th>\n",
       "      <th>DaystoShipScheduled</th>\n",
       "      <th>OrderProfitable</th>\n",
       "      <th>SalesperCustomer</th>\n",
       "      <th>ProfitRatio</th>\n",
       "      <th>SalesaboveTarget</th>\n",
       "      <th>latitude</th>\n",
       "      <th>longitude</th>\n",
       "    </tr>\n",
       "  </thead>\n",
       "  <tbody>\n",
       "    <tr>\n",
       "      <th>0</th>\n",
       "      <td>2011-01-04T00:00:00.000Z</td>\n",
       "      <td>Office Supplies</td>\n",
       "      <td>Houston</td>\n",
       "      <td>United States</td>\n",
       "      <td>Darren Powers</td>\n",
       "      <td>0.2</td>\n",
       "      <td>CA-2011-103800</td>\n",
       "      <td>77095</td>\n",
       "      <td>Message Book, Wirebound, Four 5 1/2 X 4 Forms/...</td>\n",
       "      <td>6</td>\n",
       "      <td>...</td>\n",
       "      <td>4</td>\n",
       "      <td>22</td>\n",
       "      <td>Shipped Early</td>\n",
       "      <td>6</td>\n",
       "      <td>NaN</td>\n",
       "      <td>16.45</td>\n",
       "      <td>33.8</td>\n",
       "      <td>NaN</td>\n",
       "      <td>29.8941</td>\n",
       "      <td>-95.6481</td>\n",
       "    </tr>\n",
       "    <tr>\n",
       "      <th>1</th>\n",
       "      <td>2011-01-05T00:00:00.000Z</td>\n",
       "      <td>Office Supplies</td>\n",
       "      <td>Naperville</td>\n",
       "      <td>United States</td>\n",
       "      <td>Phillina Ober</td>\n",
       "      <td>0.2</td>\n",
       "      <td>CA-2011-112326</td>\n",
       "      <td>60540</td>\n",
       "      <td>Avery 508</td>\n",
       "      <td>4</td>\n",
       "      <td>...</td>\n",
       "      <td>4</td>\n",
       "      <td>15</td>\n",
       "      <td>Shipped Early</td>\n",
       "      <td>6</td>\n",
       "      <td>NaN</td>\n",
       "      <td>11.78</td>\n",
       "      <td>36.3</td>\n",
       "      <td>NaN</td>\n",
       "      <td>41.7662</td>\n",
       "      <td>-88.1410</td>\n",
       "    </tr>\n",
       "    <tr>\n",
       "      <th>2</th>\n",
       "      <td>2011-01-05T00:00:00.000Z</td>\n",
       "      <td>Office Supplies</td>\n",
       "      <td>Naperville</td>\n",
       "      <td>United States</td>\n",
       "      <td>Phillina Ober</td>\n",
       "      <td>0.8</td>\n",
       "      <td>CA-2011-112326</td>\n",
       "      <td>60540</td>\n",
       "      <td>GBC Standard Plastic Binding Systems Combs</td>\n",
       "      <td>-5</td>\n",
       "      <td>...</td>\n",
       "      <td>4</td>\n",
       "      <td>5</td>\n",
       "      <td>Shipped Early</td>\n",
       "      <td>6</td>\n",
       "      <td>NaN</td>\n",
       "      <td>3.54</td>\n",
       "      <td>-155.0</td>\n",
       "      <td>NaN</td>\n",
       "      <td>41.7662</td>\n",
       "      <td>-88.1410</td>\n",
       "    </tr>\n",
       "    <tr>\n",
       "      <th>3</th>\n",
       "      <td>2011-01-05T00:00:00.000Z</td>\n",
       "      <td>Office Supplies</td>\n",
       "      <td>Naperville</td>\n",
       "      <td>United States</td>\n",
       "      <td>Phillina Ober</td>\n",
       "      <td>0.2</td>\n",
       "      <td>CA-2011-112326</td>\n",
       "      <td>60540</td>\n",
       "      <td>SAFCO Boltless Steel Shelving</td>\n",
       "      <td>-65</td>\n",
       "      <td>...</td>\n",
       "      <td>4</td>\n",
       "      <td>357</td>\n",
       "      <td>Shipped Early</td>\n",
       "      <td>6</td>\n",
       "      <td>NaN</td>\n",
       "      <td>272.74</td>\n",
       "      <td>-23.8</td>\n",
       "      <td>NaN</td>\n",
       "      <td>41.7662</td>\n",
       "      <td>-88.1410</td>\n",
       "    </tr>\n",
       "    <tr>\n",
       "      <th>4</th>\n",
       "      <td>2011-01-06T00:00:00.000Z</td>\n",
       "      <td>Office Supplies</td>\n",
       "      <td>Philadelphia</td>\n",
       "      <td>United States</td>\n",
       "      <td>Mick Brown</td>\n",
       "      <td>0.2</td>\n",
       "      <td>CA-2011-141817</td>\n",
       "      <td>19143</td>\n",
       "      <td>Avery Hi-Liter EverBold Pen Style Fluorescent ...</td>\n",
       "      <td>5</td>\n",
       "      <td>...</td>\n",
       "      <td>7</td>\n",
       "      <td>26</td>\n",
       "      <td>Shipped Late</td>\n",
       "      <td>6</td>\n",
       "      <td>NaN</td>\n",
       "      <td>19.54</td>\n",
       "      <td>25.0</td>\n",
       "      <td>NaN</td>\n",
       "      <td>39.9448</td>\n",
       "      <td>-75.2288</td>\n",
       "    </tr>\n",
       "  </tbody>\n",
       "</table>\n",
       "<p>5 rows × 28 columns</p>\n",
       "</div>"
      ],
      "text/plain": [
       "                  OrderDate         Category          City        Country  \\\n",
       "0  2011-01-04T00:00:00.000Z  Office Supplies       Houston  United States   \n",
       "1  2011-01-05T00:00:00.000Z  Office Supplies    Naperville  United States   \n",
       "2  2011-01-05T00:00:00.000Z  Office Supplies    Naperville  United States   \n",
       "3  2011-01-05T00:00:00.000Z  Office Supplies    Naperville  United States   \n",
       "4  2011-01-06T00:00:00.000Z  Office Supplies  Philadelphia  United States   \n",
       "\n",
       "    CustomerName  Discount         OrderID  PostalCode  \\\n",
       "0  Darren Powers       0.2  CA-2011-103800       77095   \n",
       "1  Phillina Ober       0.2  CA-2011-112326       60540   \n",
       "2  Phillina Ober       0.8  CA-2011-112326       60540   \n",
       "3  Phillina Ober       0.2  CA-2011-112326       60540   \n",
       "4     Mick Brown       0.2  CA-2011-141817       19143   \n",
       "\n",
       "                                         ProductName  Profit  ...  \\\n",
       "0  Message Book, Wirebound, Four 5 1/2 X 4 Forms/...       6  ...   \n",
       "1                                          Avery 508       4  ...   \n",
       "2         GBC Standard Plastic Binding Systems Combs      -5  ...   \n",
       "3                      SAFCO Boltless Steel Shelving     -65  ...   \n",
       "4  Avery Hi-Liter EverBold Pen Style Fluorescent ...       5  ...   \n",
       "\n",
       "   DaystoShipActual SalesForecast     ShipStatus DaystoShipScheduled  \\\n",
       "0                 4            22  Shipped Early                   6   \n",
       "1                 4            15  Shipped Early                   6   \n",
       "2                 4             5  Shipped Early                   6   \n",
       "3                 4           357  Shipped Early                   6   \n",
       "4                 7            26   Shipped Late                   6   \n",
       "\n",
       "  OrderProfitable SalesperCustomer ProfitRatio SalesaboveTarget  latitude  \\\n",
       "0             NaN            16.45        33.8              NaN   29.8941   \n",
       "1             NaN            11.78        36.3              NaN   41.7662   \n",
       "2             NaN             3.54      -155.0              NaN   41.7662   \n",
       "3             NaN           272.74       -23.8              NaN   41.7662   \n",
       "4             NaN            19.54        25.0              NaN   39.9448   \n",
       "\n",
       "   longitude  \n",
       "0   -95.6481  \n",
       "1   -88.1410  \n",
       "2   -88.1410  \n",
       "3   -88.1410  \n",
       "4   -75.2288  \n",
       "\n",
       "[5 rows x 28 columns]"
      ]
     },
     "execution_count": 3,
     "metadata": {},
     "output_type": "execute_result"
    }
   ],
   "source": [
    "df.head()"
   ]
  },
  {
   "cell_type": "code",
   "execution_count": 4,
   "id": "e37e7ab5",
   "metadata": {},
   "outputs": [
    {
     "data": {
      "text/plain": [
       "OrderDate                 0\n",
       "Category                  0\n",
       "City                      0\n",
       "Country                   0\n",
       "CustomerName              0\n",
       "Discount                  0\n",
       "OrderID                   0\n",
       "PostalCode                0\n",
       "ProductName               0\n",
       "Profit                    0\n",
       "Quantity                  0\n",
       "Region                    0\n",
       "Sales                     0\n",
       "Segment                   0\n",
       "ShipDate                  0\n",
       "ShipMode                  0\n",
       "State                     0\n",
       "Sub_Category              0\n",
       "DaystoShipActual          0\n",
       "SalesForecast             0\n",
       "ShipStatus                0\n",
       "DaystoShipScheduled       0\n",
       "OrderProfitable        9994\n",
       "SalesperCustomer          0\n",
       "ProfitRatio               0\n",
       "SalesaboveTarget       9994\n",
       "latitude                  0\n",
       "longitude                 0\n",
       "dtype: int64"
      ]
     },
     "execution_count": 4,
     "metadata": {},
     "output_type": "execute_result"
    }
   ],
   "source": [
    "df.isnull().sum()"
   ]
  },
  {
   "cell_type": "code",
   "execution_count": 5,
   "id": "bc26da01",
   "metadata": {},
   "outputs": [
    {
     "data": {
      "text/plain": [
       "(9994, 28)"
      ]
     },
     "execution_count": 5,
     "metadata": {},
     "output_type": "execute_result"
    }
   ],
   "source": [
    "df.shape"
   ]
  },
  {
   "cell_type": "code",
   "execution_count": 6,
   "id": "99b49698",
   "metadata": {},
   "outputs": [],
   "source": [
    "df.dropna(axis=1,inplace=True)"
   ]
  },
  {
   "cell_type": "code",
   "execution_count": 7,
   "id": "9cb333b7",
   "metadata": {},
   "outputs": [
    {
     "data": {
      "text/plain": [
       "OrderDate              0\n",
       "Category               0\n",
       "City                   0\n",
       "Country                0\n",
       "CustomerName           0\n",
       "Discount               0\n",
       "OrderID                0\n",
       "PostalCode             0\n",
       "ProductName            0\n",
       "Profit                 0\n",
       "Quantity               0\n",
       "Region                 0\n",
       "Sales                  0\n",
       "Segment                0\n",
       "ShipDate               0\n",
       "ShipMode               0\n",
       "State                  0\n",
       "Sub_Category           0\n",
       "DaystoShipActual       0\n",
       "SalesForecast          0\n",
       "ShipStatus             0\n",
       "DaystoShipScheduled    0\n",
       "SalesperCustomer       0\n",
       "ProfitRatio            0\n",
       "latitude               0\n",
       "longitude              0\n",
       "dtype: int64"
      ]
     },
     "execution_count": 7,
     "metadata": {},
     "output_type": "execute_result"
    }
   ],
   "source": [
    "df.isnull().sum()"
   ]
  },
  {
   "cell_type": "code",
   "execution_count": 8,
   "id": "0e7ee959",
   "metadata": {},
   "outputs": [
    {
     "data": {
      "text/plain": [
       "0       0\n",
       "1       0\n",
       "2       0\n",
       "3       0\n",
       "4       0\n",
       "       ..\n",
       "9989    0\n",
       "9990    0\n",
       "9991    0\n",
       "9992    0\n",
       "9993    0\n",
       "Length: 9994, dtype: int32"
      ]
     },
     "execution_count": 8,
     "metadata": {},
     "output_type": "execute_result"
    }
   ],
   "source": [
    "df.duplicated().astype(int)"
   ]
  },
  {
   "cell_type": "code",
   "execution_count": 9,
   "id": "380e16b2",
   "metadata": {},
   "outputs": [
    {
     "data": {
      "text/plain": [
       "OrderDate               object\n",
       "Category                object\n",
       "City                    object\n",
       "Country                 object\n",
       "CustomerName            object\n",
       "Discount               float64\n",
       "OrderID                 object\n",
       "PostalCode               int64\n",
       "ProductName             object\n",
       "Profit                   int64\n",
       "Quantity                 int64\n",
       "Region                  object\n",
       "Sales                    int64\n",
       "Segment                 object\n",
       "ShipDate                object\n",
       "ShipMode                object\n",
       "State                   object\n",
       "Sub_Category            object\n",
       "DaystoShipActual         int64\n",
       "SalesForecast            int64\n",
       "ShipStatus              object\n",
       "DaystoShipScheduled      int64\n",
       "SalesperCustomer       float64\n",
       "ProfitRatio            float64\n",
       "latitude               float64\n",
       "longitude              float64\n",
       "dtype: object"
      ]
     },
     "execution_count": 9,
     "metadata": {},
     "output_type": "execute_result"
    }
   ],
   "source": [
    "df.dtypes"
   ]
  },
  {
   "cell_type": "code",
   "execution_count": 10,
   "id": "52cd5c75",
   "metadata": {},
   "outputs": [],
   "source": [
    "df[\"OrderDate\"]=pd.to_datetime(df[\"OrderDate\"])"
   ]
  },
  {
   "cell_type": "code",
   "execution_count": 11,
   "id": "77831280",
   "metadata": {},
   "outputs": [
    {
     "data": {
      "text/plain": [
       "datetime64[ns, UTC]"
      ]
     },
     "execution_count": 11,
     "metadata": {},
     "output_type": "execute_result"
    }
   ],
   "source": [
    "df.OrderDate.dtype"
   ]
  },
  {
   "cell_type": "code",
   "execution_count": 12,
   "id": "c56d41b7",
   "metadata": {},
   "outputs": [
    {
     "name": "stderr",
     "output_type": "stream",
     "text": [
      "C:\\Users\\ASUS\\AppData\\Local\\Temp\\ipykernel_19148\\3395447079.py:1: UserWarning: Converting to PeriodArray/Index representation will drop timezone information.\n",
      "  df[\"OrderDate\"].dt.to_period(\"M\")\n"
     ]
    },
    {
     "data": {
      "text/plain": [
       "0       2011-01\n",
       "1       2011-01\n",
       "2       2011-01\n",
       "3       2011-01\n",
       "4       2011-01\n",
       "         ...   \n",
       "9989    2014-12\n",
       "9990    2014-12\n",
       "9991    2014-12\n",
       "9992    2014-12\n",
       "9993    2014-12\n",
       "Name: OrderDate, Length: 9994, dtype: period[M]"
      ]
     },
     "execution_count": 12,
     "metadata": {},
     "output_type": "execute_result"
    }
   ],
   "source": [
    "df[\"OrderDate\"].dt.to_period(\"M\")"
   ]
  },
  {
   "cell_type": "code",
   "execution_count": 13,
   "id": "2ec01d31",
   "metadata": {
    "scrolled": true
   },
   "outputs": [
    {
     "name": "stderr",
     "output_type": "stream",
     "text": [
      "C:\\Users\\ASUS\\AppData\\Local\\Temp\\ipykernel_19148\\2292971052.py:1: UserWarning: Converting to PeriodArray/Index representation will drop timezone information.\n",
      "  Monthly_sales=df.groupby(df[\"OrderDate\"].dt.to_period(\"M\"))[\"Sales\"].sum()\n"
     ]
    }
   ],
   "source": [
    "Monthly_sales=df.groupby(df[\"OrderDate\"].dt.to_period(\"M\"))[\"Sales\"].sum()"
   ]
  },
  {
   "cell_type": "code",
   "execution_count": null,
   "id": "2d127528",
   "metadata": {},
   "outputs": [],
   "source": [
    "type(Monthly_sales)"
   ]
  },
  {
   "cell_type": "code",
   "execution_count": 14,
   "id": "22c070cb",
   "metadata": {},
   "outputs": [],
   "source": [
    "best_products = df.groupby('ProductName')['Sales'].sum().sort_values(ascending=False)\n"
   ]
  },
  {
   "cell_type": "code",
   "execution_count": 15,
   "id": "4eca785e",
   "metadata": {},
   "outputs": [
    {
     "data": {
      "text/plain": [
       "ProductName\n",
       "Canon imageCLASS 2200 Advanced Copier                                          61600\n",
       "Fellowes PB500 Electric Punch Plastic Comb Binding Machine with Manual Bind    27454\n",
       "Cisco TelePresence System EX90 Videoconferencing Unit                          22638\n",
       "HON 5400 Series Task Chairs for Big and Tall                                   21870\n",
       "GBC DocuBind TL300 Electric Binding System                                     19824\n",
       "                                                                               ...  \n",
       "4009 Highlighters                                                                  8\n",
       "Grip Seal Envelopes                                                                7\n",
       "Xerox 20                                                                           6\n",
       "Avery 5                                                                            6\n",
       "Eureka Disposable Bags for Sanitaire Vibra Groomer I Upright Vac                   2\n",
       "Name: Sales, Length: 1840, dtype: int64"
      ]
     },
     "execution_count": 15,
     "metadata": {},
     "output_type": "execute_result"
    }
   ],
   "source": [
    "best_products"
   ]
  },
  {
   "cell_type": "code",
   "execution_count": 16,
   "id": "0e875ea7",
   "metadata": {
    "scrolled": true
   },
   "outputs": [
    {
     "data": {
      "image/png": "[encoded data removed]",
      "text/plain": [
       "<Figure size 640x480 with 1 Axes>"
      ]
     },
     "metadata": {},
     "output_type": "display_data"
    }
   ],
   "source": [
    "Monthly_sales.plot(kind='line')\n",
    "plt.show()"
   ]
  },
  {
   "cell_type": "code",
   "execution_count": null,
   "id": "247f2a98",
   "metadata": {},
   "outputs": [],
   "source": []
  }
 ],
 "metadata": {
  "kernelspec": {
   "display_name": "Python 3 (ipykernel)",
   "language": "python",
   "name": "python3"
  },
  "language_info": {
   "codemirror_mode": {
    "name": "ipython",
    "version": 3
   },
   "file_extension": ".py",
   "mimetype": "text/x-python",
   "name": "python",
   "nbconvert_exporter": "python",
   "pygments_lexer": "ipython3",
   "version": "3.11.5"
  }
 },
 "nbformat": 4,
 "nbformat_minor": 5
}
